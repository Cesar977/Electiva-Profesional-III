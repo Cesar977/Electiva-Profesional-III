{
 "cells": [
  {
   "cell_type": "markdown",
   "metadata": {
    "deletable": false,
    "editable": false,
    "nbgrader": {
     "cell_type": "markdown",
     "checksum": "cadb62d468c22a68ac4f07fcd4837de6",
     "grade": false,
     "grade_id": "header",
     "locked": true,
     "schema_version": 3,
     "solution": false,
     "task": false
    }
   },
   "source": [
    "# Manejo de archivos"
   ]
  },
  {
   "cell_type": "markdown",
   "metadata": {
    "deletable": false,
    "editable": false,
    "nbgrader": {
     "cell_type": "markdown",
     "checksum": "88e4945c8c579ebeae90bde1e09595ed",
     "grade": false,
     "grade_id": "eje-enun-task",
     "locked": true,
     "schema_version": 3,
     "solution": false,
     "task": false
    }
   },
   "source": [
    "### Ejemplo\n",
    "\n",
    "Implementa una función llamada `multiplicacion` que reciba dos números ingresados por parámetro y retorne la multiplicación de estos dos.\n",
    "\n",
    "*Esta función debería retornar un número*"
   ]
  },
  {
   "cell_type": "code",
   "execution_count": 1,
   "metadata": {
    "deletable": false,
    "editable": false,
    "nbgrader": {
     "cell_type": "code",
     "checksum": "78275bae3fd1e10d03c847ea1a819f41",
     "grade": false,
     "grade_id": "eje-sol",
     "locked": true,
     "schema_version": 3,
     "solution": false,
     "task": false
    }
   },
   "outputs": [],
   "source": [
    "# Implementa tu respuesta en esta celda\n",
    "\n",
    "def multiplicacion(num1, num2):\n",
    "    \n",
    "    respuesta = num1 * num2\n",
    "    \n",
    "    return respuesta"
   ]
  },
  {
   "cell_type": "markdown",
   "metadata": {
    "deletable": false,
    "editable": false,
    "nbgrader": {
     "cell_type": "markdown",
     "checksum": "91f0ccda458d545867b20da6284455a9",
     "grade": false,
     "grade_id": "ej1-enun",
     "locked": true,
     "schema_version": 3,
     "solution": false,
     "task": false
    }
   },
   "source": [
    "### Ejercicio 1\n",
    "\n",
    "En la siguiente celda encuentras declarada una variable que almacena una cadena de caracteres."
   ]
  },
  {
   "cell_type": "code",
   "execution_count": 3,
   "metadata": {
    "deletable": false,
    "editable": false,
    "nbgrader": {
     "cell_type": "code",
     "checksum": "9e30cdb21d1e27fd96ddc3f611ea4ba3",
     "grade": false,
     "grade_id": "ej1-data",
     "locked": true,
     "schema_version": 3,
     "solution": false,
     "task": false
    }
   },
   "outputs": [],
   "source": [
    "# No modifiques esta celda\n",
    "\n",
    "cadena = \"Archivos de texto\""
   ]
  },
  {
   "cell_type": "markdown",
   "metadata": {
    "deletable": false,
    "editable": false,
    "nbgrader": {
     "cell_type": "markdown",
     "checksum": "f809e3bee9ae050e953d787fca41ad05",
     "grade": false,
     "grade_id": "ej1-task",
     "locked": true,
     "schema_version": 3,
     "solution": false,
     "task": false
    }
   },
   "source": [
    "Implementa una función llamada `sustituir` que reciba por parámetro una cadena de texto (por ejemplo, la variable `cadena`) y retorne otra cadena en la cual se intercambien el segundo caracter y el penúltimo caracter.\n",
    "\n",
    "*Esta función debe retornar una cadena de texto.*"
   ]
  },
  {
   "cell_type": "code",
   "execution_count": 13,
   "metadata": {
    "deletable": false,
    "nbgrader": {
     "cell_type": "code",
     "checksum": "18f7c3426a800c42631fab7a78383292",
     "grade": false,
     "grade_id": "ej1-sol",
     "locked": false,
     "schema_version": 3,
     "solution": true,
     "task": false
    }
   },
   "outputs": [],
   "source": [
    "# your code here\n",
    "def sustituir(cadena):\n",
    "    if len(cadena) < 2:\n",
    "        return cadena\n",
    "    lista = list(cadena)\n",
    "    lista[1], lista[-2] = lista[-2], lista[1]\n",
    "    return ''.join(lista)"
   ]
  },
  {
   "cell_type": "code",
   "execution_count": null,
   "metadata": {
    "deletable": false,
    "editable": false,
    "nbgrader": {
     "cell_type": "code",
     "checksum": "8e1bcf95f230008a4987827474c68b55",
     "grade": true,
     "grade_id": "ej1-test",
     "locked": true,
     "points": 1,
     "schema_version": 3,
     "solution": false,
     "task": false
    }
   },
   "outputs": [
    {
     "name": "stdout",
     "output_type": "stream",
     "text": [
      "Felicidades, realizaste este ejercicio correctamente.\n"
     ]
    }
   ],
   "source": [
    "## AUTO-CALIFICADOR\n",
    "\n",
    "# Variables base\n",
    "cadena = \"Archivos de texto\"\n",
    "cadena_prueba = \"Una cadena con mayor cantidad de caracteres\"\n",
    "\n",
    "# Prueba 1: no existe la función\n",
    "try:\n",
    "    sustituir\n",
    "    assert type(sustituir) == type(lambda:None)\n",
    "except:\n",
    "    raise NotImplementedError(\"No se encontró una función llamada 'sustituir'.\")\n",
    "\n",
    "# Prueba 2: la función genera errores al ejecutarse\n",
    "try:\n",
    "    sustituir(cadena)\n",
    "    sustituir(cadena_prueba)\n",
    "except:\n",
    "    raise RuntimeError(\"⚠️ Tu función lanza un error al ejecutarse. Revisa tu implementación.\")\n",
    "\n",
    "# Prueba 3: el resultado no es del tipo esperado\n",
    "assert type(sustituir(cadena_prueba)) == str, f\"Tu función debe retornar un valor de tipo {str.__name__}.\"\n",
    "\n",
    "# Prueba 4: retorna un valor explícito incorrecto\n",
    "assert sustituir(cadena_prueba) != \"Atchivos de texro\", \"Tu función está devolviendo siempre la misma cadena fija. Debes usar el parámetro.\"\n",
    "\n",
    "# Prueba 5: la cadena no debe ser igual a la de entrada\n",
    "assert sustituir(cadena_prueba) != cadena_prueba, \"Parece que tu función no está modificando la cadena recibida.\"\n",
    "\n",
    "# Prueba 6: la longitud de la cadena no coincide\n",
    "assert len(sustituir(cadena_prueba)) == len(cadena_prueba), \"La cadena resultante no conserva la misma longitud.\"\n",
    "\n",
    "# Prueba 7: segunda y penúltima posición no deben ser iguales\n",
    "assert sustituir(cadena_prueba)[1] != sustituir(cadena_prueba)[-2], \"Error: asignaste el mismo carácter en la segunda y penúltima posición.\"\n",
    "\n",
    "# Prueba 8: error con la indexación de Python\n",
    "assert sustituir(cadena_prueba)[2] != \"s\", \"Revisa la indexación. En Python empieza desde 0.\"\n",
    "\n",
    "# Prueba 9: comparación con el resultado esperado\n",
    "assert sustituir(cadena_prueba) == \"Uea cadena con mayor cantidad de caracterns\", \"La cadena devuelta no es la correcta.\"\n",
    "assert sustituir(cadena) == \"Atchivos de texro\", \"La cadena devuelta no es la correcta.\"\n",
    "\n",
    "# Mensaje final\n",
    "print(\"🎉 ¡Excelente! Todas las pruebas fueron superadas correctamente.\")"
   ]
  },
  {
   "cell_type": "markdown",
   "metadata": {
    "deletable": false,
    "editable": false,
    "nbgrader": {
     "cell_type": "markdown",
     "checksum": "8f3201d2906caa85d2cc7f1d28bf30be",
     "grade": false,
     "grade_id": "ej2-enun",
     "locked": true,
     "schema_version": 3,
     "solution": false,
     "task": false
    }
   },
   "source": [
    "### Ejercicio 2 \n",
    "\n",
    "En la siguiente celda encuentras declarada una variable que almacena una cadena de caracteres representativa de la ruta relativa para el archivo `\"tesoro.txt\"`. Recuerda que para los talleres, los archivos necesarios están en el subdirectorio `\"Archivos\"`."
   ]
  },
  {
   "cell_type": "code",
   "execution_count": 2,
   "metadata": {
    "deletable": false,
    "editable": false,
    "nbgrader": {
     "cell_type": "code",
     "checksum": "03c58e2bdbc64ad2edad105beb772da1",
     "grade": false,
     "grade_id": "ej2-data",
     "locked": true,
     "schema_version": 3,
     "solution": false,
     "task": false
    }
   },
   "outputs": [],
   "source": [
    "# No modifiques esta celda\n",
    "\n",
    "directorio = \"./Archivos/tesoro.txt\""
   ]
  },
  {
   "cell_type": "markdown",
   "metadata": {
    "deletable": false,
    "editable": false,
    "nbgrader": {
     "cell_type": "markdown",
     "checksum": "ba43022d0d24c64bf507997a577edc38",
     "grade": false,
     "grade_id": "ej2-task",
     "locked": true,
     "schema_version": 3,
     "solution": false,
     "task": false
    }
   },
   "source": [
    "Implementa una función llamada `archivo_a_lista` que reciba por parámetro una cadena de texto que represente la dirección de un archivo (por ejemplo, la variable `directorio`) y retorne una lista donde cada elemento es una linea del archivo encontrado.\n",
    "\n",
    "*Esta función debe retornar una lista de cadenas de texto.*"
   ]
  },
  {
   "cell_type": "code",
   "execution_count": 3,
   "metadata": {
    "deletable": false,
    "nbgrader": {
     "cell_type": "code",
     "checksum": "10353e780cf9b15c94f91380430ca7a8",
     "grade": false,
     "grade_id": "ej2-sol",
     "locked": false,
     "schema_version": 3,
     "solution": true,
     "task": false
    }
   },
   "outputs": [],
   "source": [
    "# your code here\n",
    "def archivo_a_lista(directorio):\n",
    "    with open(directorio, encoding=\"utf-8\") as archivo:\n",
    "        return archivo.readlines()"
   ]
  },
  {
   "cell_type": "code",
   "execution_count": null,
   "metadata": {
    "deletable": false,
    "editable": false,
    "nbgrader": {
     "cell_type": "code",
     "checksum": "ca414e7224e76cc4029b1cc970de3306",
     "grade": true,
     "grade_id": "ej2-test",
     "locked": true,
     "points": 1,
     "schema_version": 3,
     "solution": false,
     "task": false
    }
   },
   "outputs": [
    {
     "name": "stdout",
     "output_type": "stream",
     "text": [
      "Felicidades, realizaste este ejercicio correctamente.\n"
     ]
    }
   ],
   "source": [
    "## AUTO-CALIFICADOR\n",
    "\n",
    "# Variables base\n",
    "ruta = \"./Archivos/tesoro.txt\"\n",
    "ruta_test = \"./Archivos/tesoro_2.txt\"\n",
    "\n",
    "# Prueba 1: verificar que la función exista\n",
    "try:\n",
    "    archivo_a_lista\n",
    "    assert callable(archivo_a_lista)\n",
    "except:\n",
    "    raise NotImplementedError(\"No se encontró una función con el nombre 'archivo_a_lista'.\")\n",
    "\n",
    "# Prueba 2: ejecución sin errores\n",
    "try:\n",
    "    archivo_a_lista(ruta)\n",
    "    archivo_a_lista(ruta_test)\n",
    "except:\n",
    "    raise RuntimeError(\"⚠️ La función genera un error al ejecutarse. Verifica que uses rutas relativas correctas.\")\n",
    "\n",
    "# Prueba 3: tipo de retorno\n",
    "salida = archivo_a_lista(ruta_test)\n",
    "assert isinstance(salida, list), \"La función debe devolver una lista, no otro tipo de dato.\"\n",
    "\n",
    "# Prueba 4: lista no vacía\n",
    "assert len(salida) > 0, \"La lista devuelta está vacía. Asegúrate de leer correctamente el archivo.\"\n",
    "\n",
    "# Prueba 5: validación de contenido inicial\n",
    "primera_linea = archivo_a_lista(ruta_test)[0]\n",
    "assert primera_linea != \"Principales tenedores de títulos del tesoro americano en lo que se lleva del 2020\\n\", \"La respuesta es incorrecta para esta instancia.\"\n",
    "assert archivo_a_lista(ruta)[0] != \"Estimado estudiante.\\n\", \"La respuesta es incorrecta. Debes utilizar el archivo recibido como parámetro.\"\n",
    "\n",
    "# Prueba 6: longitud de la lista\n",
    "assert len(salida) == 8, \"La cantidad de filas obtenidas no coincide con lo esperado.\"\n",
    "\n",
    "# Prueba 7: contenido exacto\n",
    "esperado = [\n",
    "    \"Estimado estudiante.\\n\",\n",
    "    \"\\n\",\n",
    "    \"Este archivo de texto es para uso exclusivo del auto-calificador.\\n\",\n",
    "    \"Evite borrar, mover o editar de cualquier forma su contenido.\\n\",\n",
    "    \"\\n\",\n",
    "    \"\\n\",\n",
    "    \"Agradecemos su colaboración,\\n\",\n",
    "    \"Equipo de Laboratorio Computacional de Analytics.\\n\"\n",
    "]\n",
    "\n",
    "assert salida == esperado, \"El contenido de la lista no coincide con lo esperado.\"\n",
    "\n",
    "# Mensaje final\n",
    "print(\"🎉 ¡Excelente! Todas las pruebas fueron superadas con éxito.\")\n"
   ]
  },
  {
   "cell_type": "markdown",
   "metadata": {
    "deletable": false,
    "editable": false,
    "nbgrader": {
     "cell_type": "markdown",
     "checksum": "641a1ae0fec85e5df154ab6a4ab004fc",
     "grade": false,
     "grade_id": "ej3-enun",
     "locked": true,
     "schema_version": 3,
     "solution": false,
     "task": false
    }
   },
   "source": [
    "### Ejercicio 3 \n",
    "\n",
    "En la siguiente celda encuentras declarada una variable que almacena una lista de paises y otra que guarda el resultado de ejecutar tu respuesta al [ejercicio 2](#Ejercicio-2)."
   ]
  },
  {
   "cell_type": "code",
   "execution_count": 8,
   "metadata": {
    "deletable": false,
    "editable": false,
    "nbgrader": {
     "cell_type": "code",
     "checksum": "6a48c1998be6fcb8808948d569ca996c",
     "grade": false,
     "grade_id": "ej3-data",
     "locked": true,
     "schema_version": 3,
     "solution": false,
     "task": false
    }
   },
   "outputs": [],
   "source": [
    "# No modifiques esta celda\n",
    "\n",
    "lista_paises = ['Japón', 'Francia']\n",
    "lineas = archivo_a_lista(directorio)"
   ]
  },
  {
   "cell_type": "markdown",
   "metadata": {
    "deletable": false,
    "editable": false,
    "nbgrader": {
     "cell_type": "markdown",
     "checksum": "46e1eb669cfc5222b3cf627a7450c6e3",
     "grade": false,
     "grade_id": "ej3-task",
     "locked": true,
     "schema_version": 3,
     "solution": false,
     "task": false
    }
   },
   "source": [
    "Implementa una función llamada `filtrar_paises` que reciba por parámetro una lista de nombres de paises (por ejemplo, la variable `lista_paises`) y retorne una lista donde cada elemento es la linea del archivo `\"tesoro.txt\"`, correspondiente a cada país de la lista que se recibe por parámetro. Asegurate de haber realizado el ejercicio 2 correctamente y de usar la variable `lineas` en tu implementación para este ejercicio. A continuación, un ejemplo:\n",
    "\n",
    "Ejecutar la función `filtrar_paises([\"Suiza\",\"Noruega\"])` debe resultar en la siguiente lista:\n",
    "\n",
    "```python\n",
    "['Suiza\\t247.4\\t243.1\\t241.3\\t244.6\\t243.7\\t238.1\\t237.5\\t\\n',\n",
    " 'Noruega\\t89.5\\t87.6\\t93.2\\t98.0\\t103.3\\t97.7\\t90.1\\t\\n']\n",
    "```\n",
    "\n",
    "*Esta función debe retornar una lista de cadenas de texto.*"
   ]
  },
  {
   "cell_type": "code",
   "execution_count": 9,
   "metadata": {
    "deletable": false,
    "nbgrader": {
     "cell_type": "code",
     "checksum": "b08e8696791b2f86632f759a2a601052",
     "grade": false,
     "grade_id": "ej3-sol",
     "locked": false,
     "schema_version": 3,
     "solution": true,
     "task": false
    }
   },
   "outputs": [],
   "source": [
    "# your code here\n",
    "def filtrar_paises(lista):\n",
    "    return [linea for linea in lineas if any(linea.startswith(pais + '\\t') for pais in lista)]\n"
   ]
  },
  {
   "cell_type": "code",
   "execution_count": null,
   "metadata": {
    "deletable": false,
    "editable": false,
    "nbgrader": {
     "cell_type": "code",
     "checksum": "164971eb355fa790f59c491492c5a0ef",
     "grade": true,
     "grade_id": "ej3-test",
     "locked": true,
     "points": 1,
     "schema_version": 3,
     "solution": false,
     "task": false
    }
   },
   "outputs": [
    {
     "name": "stdout",
     "output_type": "stream",
     "text": [
      "Felicidades, realizaste este ejercicio correctamente.\n"
     ]
    }
   ],
   "source": [
    "## AUTO-CALIFICADOR\n",
    "\n",
    "# Base variables\n",
    "directorio = \"./Archivos/tesoro.txt\"\n",
    "directorio_prueba = \"./Archivos/tesoro_2.txt\"\n",
    "lista_paises = ['Japón', 'Francia']\n",
    "lista_paises_prueba = ['Suiza', 'Noruega', 'Tailandia', 'Kuwait']\n",
    "resultado_prueba_ej_2 = ['Estimado estudiante.\\n',\n",
    "                         '\\n',\n",
    "                         'Este archivo de texto es para uso exclusivo del auto-calificador.\\n',\n",
    "                         'Evite borrar, mover o editar de cualquier forma su contenido.\\n',\n",
    "                         '\\n',\n",
    "                         '\\n',\n",
    "                         'Agradecemos su colaboración,\\n',\n",
    "                         'Equipo de Laboratorio Computacional de Analytics.\\n']\n",
    "\n",
    "\n",
    "# Prueba 0: no ha implementado el ejercicio 2:\n",
    "try:\n",
    "    assert archivo_a_lista(directorio_prueba) == resultado_prueba_ej_2\n",
    "except:\n",
    "    raise NotImplementedError(\"Debes haber implementado correctamente el ejercicio 2.\")\n",
    "\n",
    "lineas = archivo_a_lista(directorio)\n",
    "\n",
    "# Prueba 1: no existe la función.\n",
    "try:\n",
    "    filtrar_paises\n",
    "    assert type(filtrar_paises) == type(lambda:None)\n",
    "except:\n",
    "    raise NotImplementedError(\"No existe una función llamada filtrar_paises.\",)\n",
    "    \n",
    "# Prueba 2: la función es interrumpida por errores durante su ejecución.\n",
    "try:\n",
    "    filtrar_paises(lista_paises)\n",
    "    filtrar_paises(lista_paises_prueba)\n",
    "except:\n",
    "    raise RuntimeError(\"Tu función produce un error al ejecutarse.\")\n",
    "\n",
    "# Prueba 3: no retorna una lista\n",
    "assert type(filtrar_paises(lista_paises_prueba)) == list, f\"Tu función debe retornar un valor de tipo {list.__name__}.\"\n",
    "\n",
    "# Prueba 4: retorna una lista vacía\n",
    "assert len(filtrar_paises(lista_paises_prueba)) != 0, \"Tu función retorna una lista vacía, cuando debería devolver una lista con las filas solicitadas del archivo .txt.\"\n",
    "\n",
    "# Prueba 5: respuesta explicita\n",
    "assert filtrar_paises(lista_paises_prueba)[0] != 'Japón\\t1261.5\\t1260.4\\t1266.5\\t1272.6\\t1268.6\\t1211.8\\t1155.2\\t\\n', \"Tu respuesta es incorrecta para una instancia diferente. Asegurate de utilizar el parámetro.\"\n",
    "\n",
    "# Prueba 6: devuelve una lista de longitud errada\n",
    "assert len(filtrar_paises(lista_paises_prueba)) == len(lista_paises_prueba), \"Tu función puede no estar tomando en cuenta todos los paises de la lista que recibe por parámetro.\"\n",
    "\n",
    "# Prueba 7: la lista es incorrecta\n",
    "resultado = ['Japón\\t1261.5\\t1260.4\\t1266.5\\t1272.6\\t1268.6\\t1211.8\\t1155.2\\t\\n',\n",
    "             'Francia\\t144.2\\t130.5\\t137.7\\t156.0\\t147.6\\t134.0\\t127.7\\t\\n']\n",
    "\n",
    "resultado_prueba = ['Suiza\\t247.4\\t243.1\\t241.3\\t244.6\\t243.7\\t238.1\\t237.5\\t\\n',\n",
    "                    'Noruega\\t89.5\\t87.6\\t93.2\\t98.0\\t103.3\\t97.7\\t90.1\\t\\n',\n",
    "                    'Tailandia\\t85.5\\t85.8\\t80.5\\t81.8\\t91.3\\t96.0\\t90.5\\t\\n',\n",
    "                    'Kuwait\\t44.9\\t43.6\\t44.5\\t40.1\\t43.6\\t41.9\\t43.3\\t\\n']\n",
    "\n",
    "assert filtrar_paises(lista_paises) == resultado, \"Tu función devuelve una lista errada.\"\n",
    "assert filtrar_paises(lista_paises_prueba) == resultado_prueba, \"Tu función devuelve una lista errada.\"\n",
    "\n",
    "# Mensaje de felicitaciones\n",
    "print(\"Felicidades, realizaste este ejercicio correctamente.\")\n"
   ]
  },
  {
   "cell_type": "markdown",
   "metadata": {
    "deletable": false,
    "editable": false,
    "nbgrader": {
     "cell_type": "markdown",
     "checksum": "3b0bcaa7ae18b9a87905a1dd6dd297db",
     "grade": false,
     "grade_id": "ej4-enun",
     "locked": true,
     "schema_version": 3,
     "solution": false,
     "task": false
    }
   },
   "source": [
    "### Ejercicio 4\n",
    "\n",
    "Jorge y Juan apostaron al que hiciera la mejor predicción de la tabla final de las eliminatorias sudamericanas para el mundial de Rusia 2018. Jorge definió el siguiente pronóstico: \n",
    "\n",
    "|Puesto|<center>País</center>|\n",
    "|-------|-----------|\n",
    "|1| Brasil|\n",
    "|2| Argentina|\n",
    "|3 | Uruguay|\n",
    "|4| Colombia|\n",
    "|5| Chile|\n",
    "|6| Ecuador|\n",
    "|7| Perú|\n",
    "|8| Paraguay|\n",
    "|9| Venezuela|\n",
    "|10| Bolivia|\n",
    "\n",
    "Mientras que Juan definió el siguiente pronóstico:\n",
    "\n",
    "|Puesto|<center>País</center>|\n",
    "|-------|-----------|\n",
    "|1| Brasil|\n",
    "|2| Uruguay|\n",
    "|3 | Colombia|\n",
    "|4| Argentina|\n",
    "|5| Ecuador|\n",
    "|6| Chile|\n",
    "|7| Paraguay|\n",
    "|8| Perú|\n",
    "|9| Venezuela|\n",
    "|10| Bolivia|\n",
    "\n",
    "\n",
    "El criterio elegido para decidir quién gana la apuesta fue el error cuadrático medio (ECM). El cual, para este ejemplo específico, tendría la siguiente ecuación: \n",
    "\n",
    "$$\n",
    "ECM= \\frac{EC}{N} = \\frac{\\sum \\limits _{j=1} ^{10} (Y_{j}-\\hat{Y}_{j})^2}{10}\n",
    "$$\n",
    "\n",
    "\n",
    "Para calcular el ECM primero se calcula y eleva al cuadrado la diferencia entre la posición predicha ($\\hat{Y}_{j}$) y la posición que realmente ocupó el equipo ($Y_{j}$). Por ejemplo, supongamos que esta fue la tabla final de las eliminatorias de Rusia 2018. Los errores cuadráticos (EC) asociados con cada predicción serían los siguientes.\n",
    "\n",
    "\n",
    "|Puesto|<center>País</center>|EC(Jorge)|EC(Juan)|\n",
    "|-----|--------|-----|-----|\n",
    "|1|Brasil|0|0|\n",
    "|2|Uruguay|1|0|\n",
    "|3|Argentina|1|1|\n",
    "|4|Paraguay|16|9|\n",
    "|5|Colombia|1|4|\n",
    "|6|Chile|1|0|\n",
    "|7|Ecuador|1|4|\n",
    "|8|Perú|1|0|\n",
    "|9|Venezuela|0|0|\n",
    "|10|Bolivia|0|0|\n",
    "\n",
    "\n",
    "Después se calcula el promedio de los errores cuadráticos que en este caso sería de 2.2 para la predicción realizada por Jorge y de 1.8 para la predicción realizada por Juan. Siendo que el error cuadrático medio de Juan fue inferior al de Jorge, Juan sería el ganador.\n",
    "\n",
    "Jorge y Juan decidieron entonces usar la informaciòn del artículo de Wikipedia (2020) sobre las eliminatorias a Rusia2018. Puntualmente copiaron y pegaron la \"Tabla de Posiciones Final\" disponible en el artículo, en un archivo de texto llamado `\"Eliminatorias.txt\"`. Este archivo contiene la tabla ordenada con la clasificación final de los países así como otros datos deportivos que en este caso no nos interesa analizar (puntos, goles a favor, goles en contra, etc.).\n",
    "\n",
    "En la siguiente celda encuentras declaradas dos variables que almacenan en orden la clasificación pronosticada de Jorge y Juan respectivamente."
   ]
  },
  {
   "cell_type": "code",
   "execution_count": 11,
   "metadata": {
    "deletable": false,
    "editable": false,
    "nbgrader": {
     "cell_type": "code",
     "checksum": "38b03612b3566500cbc7133feebeae05",
     "grade": false,
     "grade_id": "ej4-data",
     "locked": true,
     "schema_version": 3,
     "solution": false,
     "task": false
    }
   },
   "outputs": [],
   "source": [
    "# No modifiques esta celda\n",
    "\n",
    "pronostico_jorge = [\"Brasil\", \"Argentina\", \"Uruguay\", \"Colombia\", \"Chile\", \"Ecuador\", \"Perú\", \"Paraguay\", \"Venezuela\", \"Bolivia\"]\n",
    "pronostico_juan = [\"Brasil\", \"Uruguay\", \"Colombia\", \"Argentina\", \"Ecuador\", \"Chile\", \"Paraguay\", \"Perú\", \"Venezuela\", \"Bolivia\"]"
   ]
  },
  {
   "cell_type": "markdown",
   "metadata": {
    "deletable": false,
    "editable": false,
    "nbgrader": {
     "cell_type": "markdown",
     "checksum": "08edea20c2d45155f328efb1d6fab61d",
     "grade": false,
     "grade_id": "ej4-task",
     "locked": true,
     "schema_version": 3,
     "solution": false,
     "task": false
    }
   },
   "source": [
    "Implementa una función llamada `ECM` que reciba por parámetro una lista con el prónostico de Juan, una con el pronóstico de Jorge (en ese orden, por ejemplo, las variables `pronostico_jorge` y `pronostico_juan`). Tu función debe importar los resultados del archivo `\"Eliminatorias.txt\"` y retornar una tupla con el $ ECM $ de Jorge y Juan (en ese orden)."
   ]
  },
  {
   "cell_type": "code",
   "execution_count": 12,
   "metadata": {
    "deletable": false,
    "nbgrader": {
     "cell_type": "code",
     "checksum": "ea3894dd9bfa35bc3e7b118e70d6731b",
     "grade": false,
     "grade_id": "ej4-sol",
     "locked": false,
     "schema_version": 3,
     "solution": true,
     "task": false
    }
   },
   "outputs": [],
   "source": [
    "def ECM(pronostico_jorge, pronostico_juan):\n",
    "    with open(\"./Archivos/Eliminatorias.txt\", encoding=\"utf-8\") as archivo:\n",
    "        lineas = archivo.readlines()\n",
    "    paises_reales = [linea.split('\\t')[1].strip() for linea in lineas[1:] if linea.strip() != \"\"]\n",
    "    n = len(paises_reales)\n",
    "    ecm_jorge = sum((i - pronostico_jorge.index(pais)) ** 2 for i, pais in enumerate(paises_reales)) / n\n",
    "    ecm_juan = sum((i - pronostico_juan.index(pais)) ** 2 for i, pais in enumerate(paises_reales)) / n\n",
    "    return (ecm_jorge, ecm_juan)\n"
   ]
  },
  {
   "cell_type": "code",
   "execution_count": null,
   "metadata": {
    "deletable": false,
    "editable": false,
    "nbgrader": {
     "cell_type": "code",
     "checksum": "97ecb4806a4e4b706e1f6aa3fbe2cf2a",
     "grade": true,
     "grade_id": "ej4-test",
     "locked": true,
     "points": 1,
     "schema_version": 3,
     "solution": false,
     "task": false
    }
   },
   "outputs": [
    {
     "name": "stdout",
     "output_type": "stream",
     "text": [
      "Felicidades, realizaste este ejercicio correctamente.\n"
     ]
    }
   ],
   "source": [
    "## AUTO-CALIFICADOR\n",
    "\n",
    "# Base variables\n",
    "pronostico_jorge = [\"Brasil\", \"Argentina\", \"Uruguay\", \"Colombia\", \"Chile\", \"Ecuador\", \"Perú\", \"Paraguay\", \"Venezuela\", \"Bolivia\"]\n",
    "pronostico_juan = [\"Brasil\", \"Uruguay\", \"Colombia\", \"Argentina\", \"Ecuador\", \"Chile\", \"Paraguay\", \"Perú\", \"Venezuela\", \"Bolivia\"]\n",
    "\n",
    "pronostico_jorge_prueba = [\"Argentina\", \"Chile\", \"Ecuador\", \"Perú\", \"Uruguay\", \"Colombia\", \"Paraguay\", \"Venezuela\", \"Brasil\", \"Bolivia\"]\n",
    "pronostico_juan_prueba = [\"Argentina\", \"Uruguay\", \"Brasil\", \"Ecuador\", \"Chile\", \"Paraguay\", \"Colombia\", \"Perú\", \"Venezuela\", \"Bolivia\"]\n",
    "\n",
    "# Prueba 1: no existe la función.\n",
    "try:\n",
    "    ECM\n",
    "    assert type(ECM) == type(lambda:None)\n",
    "except:\n",
    "    raise NotImplementedError(\"No existe una función llamada ECM.\")\n",
    "    \n",
    "# Prueba 2: la función es interrumpida por errores durante su ejecución.\n",
    "try:\n",
    "    ECM(pronostico_jorge, pronostico_juan)\n",
    "    ECM(pronostico_jorge_prueba, pronostico_juan_prueba)\n",
    "except:\n",
    "    raise RuntimeError(\"Tu función produce un error al ejecutarse.\")\n",
    "\n",
    "# Prueba 3: no retorna una tupla\n",
    "assert type(ECM(pronostico_jorge_prueba, pronostico_juan_prueba)) == tuple, f\"Tu función debe retornar un valor de tipo {tuple.__name__}.\"\n",
    "\n",
    "# Prueba 4: retorna una tupla de tamaño incorrecto\n",
    "assert len(ECM(pronostico_jorge_prueba, pronostico_juan_prueba)) == 2, \"Tu función debe retornar una tupla de dos elementos.\"\n",
    "\n",
    "# Prueba 5: retorna una tupla pero no de floats\n",
    "assert type(ECM(pronostico_jorge_prueba, pronostico_juan_prueba)[0]) == float and type(ECM(pronostico_jorge_prueba, pronostico_juan_prueba)[1]) == float, f\"Los elementos de la tupla que retorna tu función no son de tipo {float.__name__}.\"\n",
    "\n",
    "# Prueba 6: respuesta explicita\n",
    "assert ECM(pronostico_jorge_prueba, pronostico_juan_prueba) != (1.4, 2.2), \"La respuesta de tu función es incorrecta para una instancia diferente. Asegurate de utilizar el parámetro.\"\n",
    "\n",
    "# Prueba 7: orden incorrecto parámetros\n",
    "assert ECM(pronostico_juan, pronostico_jorge) == (2.2, 1.4), \"La respuesta de tu función es correcta pero presenta los resultados en el orden equivocado.\"\n",
    "\n",
    "# Prueba 8: valores incorrectos\n",
    "assert ECM(pronostico_jorge, pronostico_juan) == (1.4, 2.2), \"El cálculo de tus EMC es errado.\"\n",
    "assert ECM(pronostico_jorge_prueba, pronostico_juan_prueba) == (12.8, 4.6), \"El cálculo de tus EMC es errado.\"\n",
    "\n",
    "# Mensaje de felicitaciones\n",
    "print(\"🎉 Felicidades, realizaste este ejercicio correctamente 🚀\")\n"
   ]
  },
  {
   "cell_type": "markdown",
   "metadata": {
    "deletable": false,
    "editable": false,
    "nbgrader": {
     "cell_type": "markdown",
     "checksum": "aa396ae333000f4049c468f8bd4c489e",
     "grade": false,
     "grade_id": "refs",
     "locked": true,
     "schema_version": 3,
     "solution": false,
     "task": false
    }
   },
   "source": [
    "## CESAR ANDRES GARCES SUAREZ - 2220231028"
   ]
  }
 ],
 "metadata": {
  "kernelspec": {
   "display_name": "Python 3",
   "language": "python",
   "name": "python3"
  },
  "language_info": {
   "codemirror_mode": {
    "name": "ipython",
    "version": 3
   },
   "file_extension": ".py",
   "mimetype": "text/x-python",
   "name": "python",
   "nbconvert_exporter": "python",
   "pygments_lexer": "ipython3",
   "version": "3.10.11"
  }
 },
 "nbformat": 4,
 "nbformat_minor": 2
}
