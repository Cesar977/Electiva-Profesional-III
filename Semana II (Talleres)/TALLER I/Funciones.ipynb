{
 "cells": [
  {
   "cell_type": "markdown",
   "metadata": {
    "deletable": false,
    "editable": false,
    "nbgrader": {
     "cell_type": "markdown",
     "checksum": "3f42cd07626a60829ec743ad7e66a777",
     "grade": false,
     "grade_id": "header",
     "locked": true,
     "schema_version": 3,
     "solution": false,
     "task": false
    }
   },
   "source": [
    "\n",
    "\n",
    "# Funciones\n",
    "\n",
    "Funciones y Funciones Anonimas"
   ]
  },
  {
   "cell_type": "markdown",
   "metadata": {
    "deletable": false,
    "editable": false,
    "nbgrader": {
     "cell_type": "markdown",
     "checksum": "88e4945c8c579ebeae90bde1e09595ed",
     "grade": false,
     "grade_id": "eje-enun-task",
     "locked": true,
     "schema_version": 3,
     "solution": false,
     "task": false
    }
   },
   "source": [
    "### Ejemplo\n",
    "\n",
    "Implementa una función llamada `multiplicacion` que reciba dos números ingresados por parámetro y retorne la multiplicación de estos dos.\n",
    "\n",
    "*Esta función debería retornar un número*"
   ]
  },
  {
   "cell_type": "code",
   "execution_count": null,
   "metadata": {
    "deletable": false,
    "editable": false,
    "nbgrader": {
     "cell_type": "code",
     "checksum": "78275bae3fd1e10d03c847ea1a819f41",
     "grade": false,
     "grade_id": "eje-sol",
     "locked": true,
     "schema_version": 3,
     "solution": false,
     "task": false
    }
   },
   "outputs": [],
   "source": [
    "# Implementa tu respuesta en esta celda\n",
    "\n",
    "def multiplicacion(num1, num2):\n",
    "    \n",
    "    respuesta = num1 * num2\n",
    "    \n",
    "    return respuesta"
   ]
  },
  {
   "cell_type": "markdown",
   "metadata": {
    "deletable": false,
    "editable": false,
    "nbgrader": {
     "cell_type": "markdown",
     "checksum": "dbdd0b56db885934cbd8e20690c7e0de",
     "grade": false,
     "grade_id": "ej1-enun",
     "locked": true,
     "schema_version": 3,
     "solution": false,
     "task": false
    }
   },
   "source": [
    "### Ejercicio 1\n",
    "\n",
    "A continuación, encuentras declarada una lista de números."
   ]
  },
  {
   "cell_type": "code",
   "execution_count": null,
   "metadata": {
    "deletable": false,
    "editable": false,
    "nbgrader": {
     "cell_type": "code",
     "checksum": "b127642b5e9464befce08443250d13eb",
     "grade": false,
     "grade_id": "ej1-data",
     "locked": true,
     "schema_version": 3,
     "solution": false,
     "task": false
    }
   },
   "outputs": [],
   "source": [
    "# No modifiques esta celda\n",
    "\n",
    "lista = [20, 12, 21.3, 34]"
   ]
  },
  {
   "cell_type": "markdown",
   "metadata": {
    "deletable": false,
    "editable": false,
    "nbgrader": {
     "cell_type": "markdown",
     "checksum": "9546415bbd6424d3d591c04b1bed7279",
     "grade": false,
     "grade_id": "ej1-task",
     "locked": true,
     "schema_version": 3,
     "solution": false,
     "task": false
    }
   },
   "source": [
    "Implementa una función llamada `suma_lista` que reciba por parámetro una lista de números (por ejemplo, la variable `lista`) y retorne la suma de todos sus elementos.\n",
    "\n",
    "*Esta función debe retornar un número*."
   ]
  },
  {
   "cell_type": "code",
   "execution_count": null,
   "metadata": {
    "deletable": false,
    "nbgrader": {
     "cell_type": "code",
     "checksum": "18f7c3426a800c42631fab7a78383292",
     "grade": false,
     "grade_id": "ej1-sol",
     "locked": false,
     "schema_version": 3,
     "solution": true,
     "task": false
    }
   },
   "outputs": [],
   "source": [
    "# your code here\n",
    "def suma_lista(lista):\n",
    "    suma=0\n",
    "    for i in lista:\n",
    "        suma=suma+i\n",
    "    return suma    "
   ]
  },
  {
   "cell_type": "code",
   "execution_count": null,
   "metadata": {
    "deletable": false,
    "editable": false,
    "nbgrader": {
     "cell_type": "code",
     "checksum": "eac97127c2341129e32bde2ecdb35a38",
     "grade": true,
     "grade_id": "ej1-test",
     "locked": true,
     "points": 1,
     "schema_version": 3,
     "solution": false,
     "task": false
    }
   },
   "outputs": [
    {
     "name": "stdout",
     "output_type": "stream",
     "text": [
      "Felicidades, realizaste este ejercicio correctamente.\n"
     ]
    }
   ],
   "source": [
    "# === FUNCIÓN A IMPLEMENTAR ===\n",
    "def suma_lista(lista):\n",
    "    return sum(lista)\n",
    "\n",
    "\n",
    "# === AUTO-CALIFICADOR ===\n",
    "\n",
    "# Base variables\n",
    "lista = [20, 12, 21.3, 34]\n",
    "lista_prueba = [23.7, 15.1, 22.2, 21, 16.1, 24, 15.9]\n",
    "\n",
    "# Prueba 1: no existe la función.\n",
    "try:\n",
    "    suma_lista\n",
    "    assert type(suma_lista) == type(lambda:None)\n",
    "except:\n",
    "    raise NotImplementedError(\"No existe una función llamada suma_lista.\",)\n",
    "    \n",
    "# Prueba 2: la función es interrumpida por errores durante su ejecución.\n",
    "try:\n",
    "    suma_lista(lista)\n",
    "    suma_lista(lista_prueba)\n",
    "except:\n",
    "    raise RuntimeError(\"Tu función produce un error al ejecutarse.\")\n",
    "\n",
    "# Prueba 3: no retorna un número\n",
    "assert type(suma_lista(lista_prueba)) == float, f\"Tu función debe retornar un valor de tipo {float.__name__}.\"\n",
    "\n",
    "# Prueba 4: respuesta explicita\n",
    "assert suma_lista(lista_prueba) != 87.3, \"Tu respuesta es incorrecta para una instancia diferente. Utiliza el parámetro.\"\n",
    "\n",
    "# Prueba 5: suma elemento por elemento\n",
    "assert suma_lista(lista_prueba) >= 138.0, \"Tu función puede no estar sumando todos los elementos de la lista.\"\n",
    "\n",
    "# Prueba 6: retorna un numero distinto del esperado\n",
    "assert suma_lista(lista_prueba) == 138.0, \"Tu función no retorna el valor correcto.\"\n",
    "assert suma_lista(lista) == 87.3, \"Tu función no retorna el valor correcto.\"\n",
    "\n",
    "# Mensaje de felicitaciones\n",
    "print(\"Felicidades, realizaste este ejercicio correctamente.\")\n"
   ]
  },
  {
   "cell_type": "markdown",
   "metadata": {
    "deletable": false,
    "editable": false,
    "nbgrader": {
     "cell_type": "markdown",
     "checksum": "b151cb8e802c2b6f7df6c2e58fb618d5",
     "grade": false,
     "grade_id": "ej2-enun",
     "locked": true,
     "schema_version": 3,
     "solution": false,
     "task": false
    }
   },
   "source": [
    "### Ejercicio 2\n",
    "\n",
    "A continuación, encuentras declarada una lista que contiene letras y números."
   ]
  },
  {
   "cell_type": "code",
   "execution_count": null,
   "metadata": {
    "deletable": false,
    "editable": false,
    "nbgrader": {
     "cell_type": "code",
     "checksum": "516b1beb476b2107049ce154847347ab",
     "grade": false,
     "grade_id": "el2-data",
     "locked": true,
     "schema_version": 3,
     "solution": false,
     "task": false
    }
   },
   "outputs": [],
   "source": [
    "lista = [23, \"2\", 46 , \"l\", 8.3, \"m\"]"
   ]
  },
  {
   "cell_type": "markdown",
   "metadata": {
    "deletable": false,
    "editable": false,
    "nbgrader": {
     "cell_type": "markdown",
     "checksum": "cc357317b0a0448dc6cb905375d68ac8",
     "grade": false,
     "grade_id": "ej2-task",
     "locked": true,
     "schema_version": 3,
     "solution": false,
     "task": false
    }
   },
   "source": [
    "Implementa una función llamada `primera_letra` que reciba una lista de números y letras por parámetro (por ejemplo, la variable `lista`), y retorne el primer elemento que sea una letra. La función debe retornar una cadena de texto vacía (`\"\"`) si no encuentra una letra.\n",
    "\n",
    "*Esta función debe retornar una letra*."
   ]
  },
  {
   "cell_type": "code",
   "execution_count": null,
   "metadata": {
    "deletable": false,
    "nbgrader": {
     "cell_type": "code",
     "checksum": "10353e780cf9b15c94f91380430ca7a8",
     "grade": false,
     "grade_id": "ej2-sol",
     "locked": false,
     "schema_version": 3,
     "solution": true,
     "task": false
    }
   },
   "outputs": [],
   "source": [
    "# your code here\n",
    "\n",
    "def primera_letra(lista):\n",
    "    for elemento in lista:\n",
    "        if isinstance(elemento, str) and elemento.isalpha():\n",
    "            return elemento\n",
    "    return \"\""
   ]
  },
  {
   "cell_type": "code",
   "execution_count": null,
   "metadata": {
    "deletable": false,
    "editable": false,
    "nbgrader": {
     "cell_type": "code",
     "checksum": "9c6d58f3c8f54be423a7927e6c801358",
     "grade": true,
     "grade_id": "ej2-test",
     "locked": true,
     "points": 1,
     "schema_version": 3,
     "solution": false,
     "task": false
    }
   },
   "outputs": [
    {
     "name": "stdout",
     "output_type": "stream",
     "text": [
      "Felicidades, realizaste este ejercicio correctamente.\n"
     ]
    }
   ],
   "source": [
    "# === FUNCIÓN A IMPLEMENTAR ===\n",
    "def separar_pares_impares(lista):\n",
    "    pares = sorted([x for x in lista if x % 2 == 0])\n",
    "    impares = sorted([x for x in lista if x % 2 != 0])\n",
    "    return (pares, impares)\n",
    "\n",
    "\n",
    "# === AUTO-CALIFICADOR ===\n",
    "\n",
    "# Datos de prueba\n",
    "dataset_1 = [4, 3, 8, 5, 6, 2, 7, 5]\n",
    "dataset_2 = [3, 1, 2, 8, 6, 6, 7, 10, 9, 8]\n",
    "\n",
    "# === Test 1: existencia de la función ===\n",
    "try:\n",
    "    separar_pares_impares\n",
    "    assert callable(separar_pares_impares)\n",
    "except:\n",
    "    raise NotImplementedError(\"❌ No se encontró la función 'separar_pares_impares'.\")\n",
    "\n",
    "# === Test 2: ejecución sin errores ===\n",
    "try:\n",
    "    separar_pares_impares(dataset_1)\n",
    "    separar_pares_impares(dataset_2)\n",
    "except:\n",
    "    raise RuntimeError(\"❌ La función falla al ejecutarse con los datasets de prueba.\")\n",
    "\n",
    "# === Test 3: tipo de retorno ===\n",
    "resultado = separar_pares_impares(dataset_2)\n",
    "if not isinstance(resultado, tuple):\n",
    "    raise TypeError(\"❌ El resultado debe ser una tupla.\")\n",
    "if not all(isinstance(sub, list) for sub in resultado):\n",
    "    raise TypeError(\"❌ Cada elemento dentro de la tupla debe ser una lista.\")\n",
    "\n",
    "# === Test 4: longitud de la tupla ===\n",
    "if len(resultado) != 2:\n",
    "    raise AssertionError(\"❌ La tupla retornada debe contener exactamente 2 listas.\")\n",
    "\n",
    "# === Test 5: comparación explícita ===\n",
    "esperado = ([2, 6, 6, 8, 8, 10], [1, 3, 7, 9])\n",
    "if resultado != esperado:\n",
    "    raise AssertionError(\"❌ La salida no coincide con el resultado esperado.\")\n",
    "\n",
    "# === Test 6: validar pares ===\n",
    "if any(x % 2 != 0 for x in resultado[0]):\n",
    "    raise AssertionError(\"❌ La primera lista debe contener únicamente números pares.\")\n",
    "\n",
    "# === Test 7: validar impares ===\n",
    "if any(x % 2 == 0 for x in resultado[1]):\n",
    "    raise AssertionError(\"❌ La segunda lista debe contener únicamente números impares.\")\n",
    "\n",
    "# === Test 8: longitudes esperadas ===\n",
    "if len(resultado[0]) != 6:\n",
    "    raise AssertionError(\"❌ La lista de pares no tiene la longitud correcta.\")\n",
    "if len(resultado[1]) != 4:\n",
    "    raise AssertionError(\"❌ La lista de impares no tiene la longitud correcta.\")\n",
    "\n",
    "# === Test 9: verificación de conjuntos ===\n",
    "if set(resultado[0]) != {2, 6, 8, 10}:\n",
    "    raise AssertionError(\"❌ Los pares encontrados no son correctos (ignora el orden).\")\n",
    "if set(resultado[1]) != {1, 3, 7, 9}:\n",
    "    raise AssertionError(\"❌ Los impares encontrados no son correctos (ignora el orden).\")\n",
    "\n",
    "# === Test 10: orden ascendente ===\n",
    "if resultado[0] != [2, 6, 6, 8, 8, 10]:\n",
    "    raise AssertionError(\"❌ La lista de pares no está en orden ascendente.\")\n",
    "if resultado[1] != [1, 3, 7, 9]:\n",
    "    raise AssertionError(\"❌ La lista de impares no está en orden ascendente.\")\n",
    "\n",
    "# === Test 11: segundo dataset ===\n",
    "salida_extra = separar_pares_impares(dataset_1)\n",
    "if salida_extra[0] != [2, 4, 6, 8]:\n",
    "    raise AssertionError(\"❌ Los pares de 'dataset_1' no están ordenados correctamente.\")\n",
    "if salida_extra[1] != [3, 5, 5, 7]:\n",
    "    raise AssertionError(\"❌ Los impares de 'dataset_1' no están ordenados correctamente.\")\n",
    "\n",
    "# === Mensaje final ===\n",
    "print(\"✅ ¡Excelente trabajo! Todas las pruebas fueron superadas correctamente.\")"
   ]
  },
  {
   "cell_type": "markdown",
   "metadata": {
    "deletable": false,
    "editable": false,
    "nbgrader": {
     "cell_type": "markdown",
     "checksum": "82839d08a58e8da3feb260228b5c5524",
     "grade": false,
     "grade_id": "ej3-enun",
     "locked": true,
     "schema_version": 3,
     "solution": false,
     "task": false
    }
   },
   "source": [
    "### Ejercicio 3\n",
    "\n",
    "A continuación, encuentras declarada una lista que contiene letras y números."
   ]
  },
  {
   "cell_type": "code",
   "execution_count": null,
   "metadata": {
    "deletable": false,
    "editable": false,
    "nbgrader": {
     "cell_type": "code",
     "checksum": "1b96bbc1cb031853504fc77854f9b70b",
     "grade": false,
     "grade_id": "ej3-data",
     "locked": true,
     "schema_version": 3,
     "solution": false,
     "task": false
    }
   },
   "outputs": [],
   "source": [
    "lista = [4, 3, 8, 5, 6, 2, 7, 5]"
   ]
  },
  {
   "cell_type": "markdown",
   "metadata": {
    "deletable": false,
    "editable": false,
    "nbgrader": {
     "cell_type": "markdown",
     "checksum": "519fe4dca4b3b55137f9a5ade1015397",
     "grade": false,
     "grade_id": "ej3-task",
     "locked": true,
     "schema_version": 3,
     "solution": false,
     "task": false
    }
   },
   "source": [
    "Implementa una función llamada `separar_pares_impares` que reciba una lista de números enteros por parámetro (por ejemplo, la variable `lista`) y retorne una tupla que contenga dos listas, cada una ordenada ascendentemente:\n",
    "\n",
    "* La primera lista debe contener los números pares.\n",
    "* La segunda lista debe contener los números impares.\n",
    "\n",
    "*Esta función debe retornar una tupla de listas*."
   ]
  },
  {
   "cell_type": "code",
   "execution_count": null,
   "metadata": {
    "deletable": false,
    "nbgrader": {
     "cell_type": "code",
     "checksum": "b08e8696791b2f86632f759a2a601052",
     "grade": false,
     "grade_id": "ej3-sol",
     "locked": false,
     "schema_version": 3,
     "solution": true,
     "task": false
    }
   },
   "outputs": [],
   "source": [
    "# your code here\n",
    "def separar_pares_impares(lista):\n",
    "    pares = sorted([n for n in lista if n % 2 == 0])\n",
    "    impares = sorted([n for n in lista if n % 2 != 0])\n",
    "    return pares, impares"
   ]
  },
  {
   "cell_type": "code",
   "execution_count": null,
   "metadata": {
    "deletable": false,
    "editable": false,
    "nbgrader": {
     "cell_type": "code",
     "checksum": "8bea83de53ba372d8e1829cf84d18a13",
     "grade": true,
     "grade_id": "ej3-test",
     "locked": true,
     "points": 1,
     "schema_version": 3,
     "solution": false,
     "task": false
    }
   },
   "outputs": [
    {
     "name": "stdout",
     "output_type": "stream",
     "text": [
      "Felicidades, realizaste este ejercicio correctamente.\n"
     ]
    }
   ],
   "source": [
    "\n",
    "## AUTO-CALIFICADOR MODIFICADO\n",
    "\n",
    "# Valores de prueba\n",
    "datos_a = [4, 3, 8, 5, 6, 2, 7, 5]\n",
    "datos_b = [3, 1, 2, 8, 6, 6, 7, 10, 9, 8]\n",
    "\n",
    "# --- Test 1: la función debe existir ---\n",
    "try:\n",
    "    separar_pares_impares\n",
    "    assert callable(separar_pares_impares)\n",
    "except:\n",
    "    raise NotImplementedError(\"No se encontró la función 'separar_pares_impares'.\")\n",
    "\n",
    "# --- Test 2: ejecución sin fallar ---\n",
    "try:\n",
    "    separar_pares_impares(datos_a)\n",
    "    separar_pares_impares(datos_b)\n",
    "except:\n",
    "    raise RuntimeError(\"La función genera un error al ejecutarse con los datos de prueba.\")\n",
    "\n",
    "# --- Test 3: tipo de retorno ---\n",
    "resultado = separar_pares_impares(datos_b)\n",
    "if not isinstance(resultado, tuple):\n",
    "    raise TypeError(\"El resultado debe ser una tupla.\")\n",
    "if not all(isinstance(x, list) for x in resultado):\n",
    "    raise TypeError(\"La tupla debe contener listas en ambas posiciones.\")\n",
    "\n",
    "# --- Test 4: longitud de la tupla ---\n",
    "if len(resultado) != 2:\n",
    "    raise AssertionError(\"La tupla retornada debe tener exactamente 2 elementos.\")\n",
    "\n",
    "# --- Test 5: comparación explícita ---\n",
    "esperado = ([2, 6, 6, 8, 8, 10], [1, 3, 7, 9])\n",
    "if resultado != esperado:\n",
    "    raise AssertionError(\"La salida no coincide con el resultado esperado para el caso de prueba dado.\")\n",
    "\n",
    "# --- Test 6: validar que la primera lista contenga solo pares ---\n",
    "if any(x % 2 != 0 for x in resultado[0]):\n",
    "    raise AssertionError(\"La primera lista debe contener únicamente números pares.\")\n",
    "\n",
    "# --- Test 7: validar que la segunda lista contenga solo impares ---\n",
    "if any(x % 2 == 0 for x in resultado[1]):\n",
    "    raise AssertionError(\"La segunda lista debe contener únicamente números impares.\")\n",
    "\n",
    "# --- Test 8: longitudes correctas ---\n",
    "if len(resultado[0]) != 6:\n",
    "    raise AssertionError(\"La lista de pares no tiene la longitud esperada.\")\n",
    "if len(resultado[1]) != 4:\n",
    "    raise AssertionError(\"La lista de impares no tiene la longitud esperada.\")\n",
    "\n",
    "# --- Test 9: verificación de conjuntos ---\n",
    "if set(resultado[0]) != {2, 6, 8, 10}:\n",
    "    raise AssertionError(\"Los pares encontrados no son los correctos (sin importar el orden).\")\n",
    "if set(resultado[1]) != {1, 3, 7, 9}:\n",
    "    raise AssertionError(\"Los impares encontrados no son los correctos (sin importar el orden).\")\n",
    "\n",
    "# --- Test 10: verificación de orden ---\n",
    "if resultado[0] != [2, 6, 6, 8, 8, 10]:\n",
    "    raise AssertionError(\"La lista de pares no está en orden ascendente.\")\n",
    "if resultado[1] != [1, 3, 7, 9]:\n",
    "    raise AssertionError(\"La lista de impares no está en orden ascendente.\")\n",
    "\n",
    "# --- Test 11: segundo conjunto de datos ---\n",
    "salida_b = separar_pares_impares(datos_a)\n",
    "if salida_b[0] != [2, 4, 6, 8]:\n",
    "    raise AssertionError(\"La lista de pares para 'datos_a' no está ordenada correctamente.\")\n",
    "if salida_b[1] != [3, 5, 5, 7]:\n",
    "    raise AssertionError(\"La lista de impares para 'datos_a' no está ordenada correctamente.\")\n",
    "\n",
    "# --- Mensaje final ---\n",
    "print(\"🎉 ¡Muy bien! Todas las pruebas fueron superadas con éxito.\")\n"
   ]
  },
  {
   "cell_type": "markdown",
   "metadata": {
    "deletable": false,
    "editable": false,
    "nbgrader": {
     "cell_type": "markdown",
     "checksum": "6d0ff01e8b5e3999bfc8f2a702d01699",
     "grade": false,
     "grade_id": "ej4-enun",
     "locked": true,
     "schema_version": 3,
     "solution": false,
     "task": false
    }
   },
   "source": [
    "### Ejercicio 4\n",
    "\n",
    "A continuación, encuentras declarados algunos números enteros."
   ]
  },
  {
   "cell_type": "code",
   "execution_count": null,
   "metadata": {
    "deletable": false,
    "editable": false,
    "nbgrader": {
     "cell_type": "code",
     "checksum": "0180b548e3b0ae489637752962409202",
     "grade": false,
     "grade_id": "ej4-data",
     "locked": true,
     "schema_version": 3,
     "solution": false,
     "task": false
    }
   },
   "outputs": [],
   "source": [
    "treinta = 30\n",
    "cuarenta_y_cinco = 45\n",
    "cincuenta = 50\n",
    "sesenta_y_tres = 63"
   ]
  },
  {
   "cell_type": "markdown",
   "metadata": {
    "deletable": false,
    "editable": false,
    "nbgrader": {
     "cell_type": "markdown",
     "checksum": "ca1f6520d63ac9b7eaad7e1a661c2c39",
     "grade": false,
     "grade_id": "ej4-task",
     "locked": true,
     "schema_version": 3,
     "solution": false,
     "task": false
    }
   },
   "source": [
    "Implementa una función anónima que reciba un número entero por parámetro (por ejemplo, la variable `trinta`) y retorne `True` si el número es mayor a 50. Guarda la función (sin ejecutar) en una variable llamada `mayor_a_cincuenta`.\n",
    "\n",
    "*Esta función debe retornar un valor booleano* (`True` o `False`)."
   ]
  },
  {
   "cell_type": "code",
   "execution_count": null,
   "metadata": {
    "deletable": false,
    "nbgrader": {
     "cell_type": "code",
     "checksum": "ea3894dd9bfa35bc3e7b118e70d6731b",
     "grade": false,
     "grade_id": "ej4-sol",
     "locked": false,
     "schema_version": 3,
     "solution": true,
     "task": false
    }
   },
   "outputs": [],
   "source": [
    "# your code here\n",
    "mayor_a_cincuenta = lambda x: x > 50"
   ]
  },
  {
   "cell_type": "code",
   "execution_count": null,
   "metadata": {
    "deletable": false,
    "editable": false,
    "nbgrader": {
     "cell_type": "code",
     "checksum": "1f814a3514f2759d11d56912380ccb56",
     "grade": true,
     "grade_id": "ej4-test",
     "locked": true,
     "points": 1,
     "schema_version": 3,
     "solution": false,
     "task": false
    }
   },
   "outputs": [
    {
     "name": "stdout",
     "output_type": "stream",
     "text": [
      "Felicidades, realizaste este ejercicio correctamente.\n"
     ]
    }
   ],
   "source": [
    "## AUTO-CALIFICADOR MODIFICADO\n",
    "\n",
    "# Variables base para pruebas\n",
    "valor_a = 30\n",
    "valor_b = 45\n",
    "valor_c = 50\n",
    "valor_d = 63\n",
    "\n",
    "# --- Prueba 1: existencia de la función ---\n",
    "try:\n",
    "    mayor_a_cincuenta\n",
    "    assert isinstance(mayor_a_cincuenta, type(lambda: None))\n",
    "except:\n",
    "    raise NotImplementedError(\"No se encontró la función 'mayor_a_cincuenta'.\")\n",
    "\n",
    "# --- Prueba 2: ejecución sin errores ---\n",
    "try:\n",
    "    mayor_a_cincuenta(valor_a)\n",
    "    mayor_a_cincuenta(valor_b)\n",
    "    mayor_a_cincuenta(valor_c)\n",
    "    mayor_a_cincuenta(valor_d)\n",
    "except:\n",
    "    raise RuntimeError(\"La función se interrumpe al ejecutarse con algunos valores.\")\n",
    "\n",
    "# --- Prueba 3: debe ser una lambda ---\n",
    "if \"lambda\" not in str(mayor_a_cincuenta):\n",
    "    raise TypeError(\"La función debe ser anónima, de tipo lambda.\")\n",
    "\n",
    "# --- Prueba 4: debe retornar booleano ---\n",
    "if not isinstance(mayor_a_cincuenta(valor_d), bool):\n",
    "    raise TypeError(\"El resultado de la función debería ser de tipo bool.\")\n",
    "\n",
    "# --- Prueba 5: validar condición mayor a 50 ---\n",
    "if not (mayor_a_cincuenta(valor_d) and not mayor_a_cincuenta(valor_a)):\n",
    "    raise AssertionError(\"La condición usada en tu función es incorrecta (revisa el signo de desigualdad).\")\n",
    "\n",
    "# --- Prueba 6: no debe aceptar 50 ---\n",
    "if mayor_a_cincuenta(valor_c):\n",
    "    raise AssertionError(\"El valor 50 no es mayor a 50, debería dar False.\")\n",
    "\n",
    "# --- Prueba 7: comprobación con diferentes casos ---\n",
    "try:\n",
    "    assert mayor_a_cincuenta(valor_a) == False\n",
    "    assert mayor_a_cincuenta(valor_b) == False\n",
    "    assert mayor_a_cincuenta(valor_c) == False\n",
    "    assert mayor_a_cincuenta(valor_d) == True\n",
    "except AssertionError as e:\n",
    "    e.args += (\"El resultado lógico devuelto no coincide con lo esperado.\",)\n",
    "    raise e\n",
    "\n",
    "# --- Mensaje final ---\n",
    "print(\"🎉 ¡Excelente! Todas las pruebas fueron superadas correctamente.\")\n"
   ]
  },
  {
   "cell_type": "markdown",
   "metadata": {
    "deletable": false,
    "editable": false,
    "nbgrader": {
     "cell_type": "markdown",
     "checksum": "c45a5ad0b9a64621778d885b2f07fb46",
     "grade": false,
     "grade_id": "ej5-enun",
     "locked": true,
     "schema_version": 3,
     "solution": false,
     "task": false
    }
   },
   "source": [
    "### Ejercicio 5\n",
    "\n",
    "A continuación, encuentras declarada una lista de números enteros."
   ]
  },
  {
   "cell_type": "code",
   "execution_count": null,
   "metadata": {
    "deletable": false,
    "editable": false,
    "nbgrader": {
     "cell_type": "code",
     "checksum": "ff9acbf3d1385fbf72db9d53249aae76",
     "grade": false,
     "grade_id": "ej5-data",
     "locked": true,
     "schema_version": 3,
     "solution": false,
     "task": false
    }
   },
   "outputs": [],
   "source": [
    "lista = [3, 4, 2, 5, 5, 6, 3]"
   ]
  },
  {
   "cell_type": "markdown",
   "metadata": {
    "deletable": false,
    "editable": false,
    "nbgrader": {
     "cell_type": "markdown",
     "checksum": "3afce00a8fe4195b992c309c33eba5c4",
     "grade": false,
     "grade_id": "ej5-task",
     "locked": true,
     "schema_version": 3,
     "solution": false,
     "task": false
    }
   },
   "source": [
    "Implementa una función llamada `modulo_del_minimo` que reciba una lista de números enteros por parámetro (por ejemplo, la variable `lista`), encuentre el valor más pequeño que se repita en la lista (`min_val_rep`) y retorne una función anónima. Esta función anónima debe recibir un número entero mayor a cero (`entero`) por parámetro y retornar el residuo de la división entre `min_val_rep` y `entero` (recomendamos usar el operador de residuo `%`).\n",
    "\n",
    "*Esta función debe retornar una función anónima*.\n",
    "\n",
    "##### Ejemplo\n",
    "```python\n",
    "    anon = modulo_del_minimo([3, 4, 2, 5, 5, 6, 3])\n",
    "    \n",
    "    anon(2) == 1\n",
    "```\n",
    "Una vez implementada la función `modulo_del_minimo`, ejectar el código anterior en una celda de Jupyter debe generar el *output* `True`."
   ]
  },
  {
   "cell_type": "code",
   "execution_count": null,
   "metadata": {
    "deletable": false,
    "nbgrader": {
     "cell_type": "code",
     "checksum": "3b0f8e6e36fbaec3299ccf911aa2d45e",
     "grade": false,
     "grade_id": "ej5-sol",
     "locked": false,
     "schema_version": 3,
     "solution": true,
     "task": false
    }
   },
   "outputs": [],
   "source": [
    "# your code here\n",
    "def modulo_del_minimo(lista):\n",
    "    min_val_rep = min([x for x in set(lista) if lista.count(x) > 1])\n",
    "    return lambda entero: min_val_rep % entero"
   ]
  },
  {
   "cell_type": "code",
   "execution_count": null,
   "metadata": {
    "deletable": false,
    "editable": false,
    "nbgrader": {
     "cell_type": "code",
     "checksum": "784b4bf42f760f8f200b76e8c589894d",
     "grade": true,
     "grade_id": "ej5-test",
     "locked": true,
     "points": 1,
     "schema_version": 3,
     "solution": false,
     "task": false
    }
   },
   "outputs": [
    {
     "name": "stdout",
     "output_type": "stream",
     "text": [
      "Felicidades, realizaste este ejercicio correctamente.\n"
     ]
    }
   ],
   "source": [
    "## AUTO-CALIFICADOR MODIFICADO\n",
    "\n",
    "# Datos base\n",
    "valores_a = [3, 4, 2, 5, 5, 6, 3]\n",
    "valores_b = [6, 7, 4, 5, 8, 12, 15, 15, 8]\n",
    "\n",
    "# --- Prueba 1: existencia de la función ---\n",
    "try:\n",
    "    modulo_del_minimo\n",
    "    assert isinstance(modulo_del_minimo, type(lambda: None))\n",
    "except:\n",
    "    raise NotImplementedError(\"No se encontró la función requerida: modulo_del_minimo.\")\n",
    "\n",
    "# --- Prueba 2: ejecución sin errores ---\n",
    "try:\n",
    "    modulo_del_minimo(valores_a)\n",
    "    modulo_del_minimo(valores_b)\n",
    "except:\n",
    "    raise RuntimeError(\"La función provoca un error durante su ejecución.\")\n",
    "\n",
    "# --- Prueba 3: el retorno debe ser una lambda ---\n",
    "try:\n",
    "    salida = modulo_del_minimo(valores_b)\n",
    "    assert isinstance(salida, type(lambda: None))\n",
    "    assert \"lambda\" in str(salida)\n",
    "except:\n",
    "    raise TypeError(\"La función debería retornar una función anónima (lambda).\")\n",
    "\n",
    "# --- Prueba 4: la lambda debe ejecutarse sin fallos ---\n",
    "try:\n",
    "    for numero in range(1, 101):\n",
    "        modulo_del_minimo(valores_a)(numero)\n",
    "        modulo_del_minimo(valores_b)(numero)\n",
    "except:\n",
    "    raise RuntimeError(\"La función anónima devuelta produce un error al ejecutarse.\")\n",
    "\n",
    "# --- Prueba 5: el tipo de retorno debe ser int ---\n",
    "if not isinstance(modulo_del_minimo(valores_b)(7), int):\n",
    "    raise TypeError(\"La función anónima debería devolver valores de tipo int.\")\n",
    "\n",
    "# --- Prueba 6: verificar el orden correcto del módulo ---\n",
    "try:\n",
    "    assert modulo_del_minimo(valores_b)(0) != 0\n",
    "except AssertionError:\n",
    "    raise ArithmeticError(\"El cálculo del residuo está invertido. Revisa el orden del operador %.\")\n",
    "except ZeroDivisionError:\n",
    "    # Este caso puede ocurrir si el mínimo repetido fuera 0\n",
    "    pass\n",
    "\n",
    "# --- Prueba 7: correcto mínimo repetido ---\n",
    "try:\n",
    "    assert modulo_del_minimo(valores_a)(float(\"inf\")) == 3\n",
    "    assert modulo_del_minimo(valores_b)(float(\"inf\")) == 8\n",
    "except AssertionError as e:\n",
    "    e.args += (\"El cálculo del mínimo repetido no coincide con el esperado.\",)\n",
    "    raise e\n",
    "\n",
    "# --- Prueba 8: casos de validación extra ---\n",
    "try:\n",
    "    assert modulo_del_minimo(valores_b)(4) == 0\n",
    "    assert modulo_del_minimo(valores_b)(5) == 3\n",
    "    assert modulo_del_minimo(valores_b)(8) == 0\n",
    "    assert modulo_del_minimo(valores_b)(15) == 8\n",
    "    assert modulo_del_minimo(valores_a)(3) == 0\n",
    "    assert modulo_del_minimo(valores_a)(5) == 3\n",
    "except AssertionError as e:\n",
    "    e.args += (\"La función anónima devuelta está generando resultados incorrectos.\",)\n",
    "    raise e\n",
    "\n",
    "# --- Mensaje final ---\n",
    "print(\"🎉 Excelente trabajo, tu solución pasó todas las pruebas.\")\n"
   ]
  },
  {
   "cell_type": "markdown",
   "metadata": {},
   "source": [
    "## CESAR ANDRES GARCES SUAREZ - 2220231028"
   ]
  }
 ],
 "metadata": {
  "kernelspec": {
   "display_name": "Python 3",
   "language": "python",
   "name": "python3"
  },
  "language_info": {
   "codemirror_mode": {
    "name": "ipython",
    "version": 3
   },
   "file_extension": ".py",
   "mimetype": "text/x-python",
   "name": "python",
   "nbconvert_exporter": "python",
   "pygments_lexer": "ipython3",
   "version": "3.10.11"
  }
 },
 "nbformat": 4,
 "nbformat_minor": 2
}
